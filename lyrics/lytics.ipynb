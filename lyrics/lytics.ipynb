{
 "cells": [
  {
   "cell_type": "markdown",
   "metadata": {},
   "source": [
    "# Lyrics\n",
    "## Intro\n",
    "This exercise is simple. You are going to create a code that writes the lyrics of a famous song. **The shorter your code is, the better**. Although it may seem a bit silly, it is important that you learn to automate repetitive tasks or that there are few changes between them.\n",
    "\n",
    "<img src=\"./images/babyshark.jpeg\" width=\"400\">\n",
    "\n",
    "## Song\n",
    "\n",
    "```\n",
    "Baby shark, doo doo doo doo doo doo\n",
    "Baby shark, doo doo doo doo doo doo\n",
    "Baby shark, doo doo doo doo doo doo\n",
    "Baby shark!\n",
    "Mommy shark, doo doo doo doo doo doo\n",
    "Mommy shark, doo doo doo doo doo doo\n",
    "Mommy shark, doo doo doo doo doo doo\n",
    "Mommy shark!\n",
    "Daddy shark, doo doo doo doo doo doo\n",
    "Daddy shark, doo doo doo doo doo doo\n",
    "Daddy shark, doo doo doo doo doo doo\n",
    "Daddy shark!\n",
    "Grandma shark, doo doo doo doo doo doo\n",
    "Grandma shark, doo doo doo doo doo doo\n",
    "Grandma shark, doo doo doo doo doo doo\n",
    "Grandma shark!\n",
    "Grandpa shark, doo doo doo doo doo doo\n",
    "Grandpa shark, doo doo doo doo doo doo\n",
    "Grandpa shark, doo doo doo doo doo doo\n",
    "Grandpa shark!\n",
    "Let's go hunt, doo doo doo doo doo doo\n",
    "Let's go hunt, doo doo doo doo doo doo\n",
    "Let's go hunt, doo doo doo doo doo doo\n",
    "Let's go hunt!\n",
    "Run away,… \n",
    "```\n",
    "\n",
    "\n",
    "## Goals\n",
    "\n",
    "0. Use of string methods: **format()**, **str()**\n",
    "1. Use of **for loop**\n",
    "2. Use of the function **range()**\n",
    "3. print()\n",
    "4. Use of functions\n",
    "5. Open files\n",
    "6. Refactoring\n",
    "\n",
    "## Hints\n",
    "\n",
    "* '\\n' is the character for new line. It must end every string in the third step. \n",
    "\n",
    "\n",
    "## Solution"
   ]
  },
  {
   "cell_type": "code",
   "execution_count": 2,
   "metadata": {},
   "outputs": [],
   "source": [
    "# Variable\n",
    "\n",
    "babyshark = '''Baby shark, doo doo doo doo doo doo\n",
    "Baby shark, doo doo doo doo doo doo\n",
    "Baby shark, doo doo doo doo doo doo\n",
    "Baby shark!\n",
    "Mommy shark, doo doo doo doo doo doo\n",
    "Mommy shark, doo doo doo doo doo doo\n",
    "Mommy shark, doo doo doo doo doo doo\n",
    "Mommy shark!\n",
    "Daddy shark, doo doo doo doo doo doo\n",
    "Daddy shark, doo doo doo doo doo doo\n",
    "Daddy shark, doo doo doo doo doo doo\n",
    "Daddy shark!\n",
    "Grandma shark, doo doo doo doo doo doo\n",
    "Grandma shark, doo doo doo doo doo doo\n",
    "Grandma shark, doo doo doo doo doo doo\n",
    "Grandma shark!\n",
    "Grandpa shark, doo doo doo doo doo doo\n",
    "Grandpa shark, doo doo doo doo doo doo\n",
    "Grandpa shark, doo doo doo doo doo doo\n",
    "Grandpa shark!\n",
    "Let's go hunt, doo doo doo doo doo doo\n",
    "Let's go hunt, doo doo doo doo doo doo\n",
    "Let's go hunt, doo doo doo doo doo doo\n",
    "Let's go hunt!\n",
    "Run away,…'''"
   ]
  },
  {
   "cell_type": "markdown",
   "metadata": {},
   "source": [
    "### Step 1: First Paragraph\n",
    "Create a code to print the first paragraph and asign it to a variable. "
   ]
  },
  {
   "cell_type": "code",
   "execution_count": 3,
   "metadata": {},
   "outputs": [
    {
     "name": "stdout",
     "output_type": "stream",
     "text": [
      "Baby shark, doo doo doo doo doo doo\n",
      "Baby shark, doo doo doo doo doo doo\n",
      "Baby shark, doo doo doo doo doo doo\n",
      "Baby shark!\n"
     ]
    }
   ],
   "source": [
    "# your code here\n",
    "Bs = \"Baby shark\"\n",
    "doo = \"doo doo doo doo doo doo\"\n",
    "\n",
    "baby_shark = \"{}, {}\\n\".format(Bs,doo)*3+Bs+\"!\"\n",
    "print(baby_shark)\n"
   ]
  },
  {
   "cell_type": "markdown",
   "metadata": {},
   "source": [
    "**Expected output**:\n",
    "\n",
    "```\n",
    "Baby shark, doo doo doo doo doo doo\n",
    "Baby shark, doo doo doo doo doo doo\n",
    "Baby shark, doo doo doo doo doo doo\n",
    "Baby shark!\n",
    "```\n",
    "\n"
   ]
  },
  {
   "cell_type": "markdown",
   "metadata": {},
   "source": [
    "### Step 2: Full song\n",
    "\n",
    "Create a code that prints the complete lyrics. "
   ]
  },
  {
   "cell_type": "code",
   "execution_count": 4,
   "metadata": {},
   "outputs": [
    {
     "name": "stdout",
     "output_type": "stream",
     "text": [
      "Baby shark, doo doo doo doo doo doo\n",
      "Baby shark, doo doo doo doo doo doo\n",
      "Baby shark, doo doo doo doo doo doo\n",
      "Baby shark!\n",
      "Mommy shark, doo doo doo doo doo doo\n",
      "Mommy shark, doo doo doo doo doo doo\n",
      "Mommy shark, doo doo doo doo doo doo\n",
      "Mommy shark!\n",
      "Daddy shark, doo doo doo doo doo doo\n",
      "Daddy shark, doo doo doo doo doo doo\n",
      "Daddy shark, doo doo doo doo doo doo\n",
      "Daddy shark!\n",
      "Grandma shark, doo doo doo doo doo doo\n",
      "Grandma shark, doo doo doo doo doo doo\n",
      "Grandma shark, doo doo doo doo doo doo\n",
      "Grandma shark!\n",
      "Grandpa shark, doo doo doo doo doo doo\n",
      "Grandpa shark, doo doo doo doo doo doo\n",
      "Grandpa shark, doo doo doo doo doo doo\n",
      "Grandpa shark!\n",
      "Let's go hunt, doo doo doo doo doo doo\n",
      "Let's go hunt, doo doo doo doo doo doo\n",
      "Let's go hunt, doo doo doo doo doo doo\n",
      "Let's go hunt!\n",
      "Run away,...\n"
     ]
    }
   ],
   "source": [
    "# your code here\n",
    "Ms = \"Mommy shark\"\n",
    "Ds = \"Daddy shark\"\n",
    "Gms = \"Grandma shark\"\n",
    "Gds = \"Grandpa shark\"\n",
    "hunt = \"Let's go hunt\"\n",
    "mommy_shark = \"{}, {}\\n\".format(Ms,doo)*3+Ms+\"!\"\n",
    "daddy_shark = \"{}, {}\\n\".format(Ds,doo)*3+Ds+\"!\"\n",
    "grandma_shark = \"{}, {}\\n\".format(Gms,doo)*3+Gms+\"!\"\n",
    "grandpa_shark = \"{}, {}\\n\".format(Gds,doo)*3+Gds+\"!\"\n",
    "hunting = \"{}, {}\\n\".format(hunt,doo)*3+hunt+\"!\"\n",
    "lyrics = baby_shark + \"\\n\" + mommy_shark + \"\\n\" + daddy_shark + \"\\n\" + grandma_shark + \"\\n\"+ grandpa_shark + \"\\n\" + hunting + \"\\n\" + \"Run away,...\"\n",
    "\n",
    "print(lyrics)"
   ]
  },
  {
   "cell_type": "markdown",
   "metadata": {},
   "source": [
    "**Expected output**:\n",
    "\n",
    "```\n",
    "Baby shark, doo doo doo doo doo doo\n",
    "Baby shark, doo doo doo doo doo doo\n",
    "Baby shark, doo doo doo doo doo doo\n",
    "Baby shark!\n",
    "Mommy shark, doo doo doo doo doo doo\n",
    "Mommy shark, doo doo doo doo doo doo\n",
    "Mommy shark, doo doo doo doo doo doo\n",
    "Mommy shark!\n",
    "Daddy shark, doo doo doo doo doo doo\n",
    "Daddy shark, doo doo doo doo doo doo\n",
    "Daddy shark, doo doo doo doo doo doo\n",
    "Daddy shark!\n",
    "Grandma shark, doo doo doo doo doo doo\n",
    "Grandma shark, doo doo doo doo doo doo\n",
    "Grandma shark, doo doo doo doo doo doo\n",
    "Grandma shark!\n",
    "Grandpa shark, doo doo doo doo doo doo\n",
    "Grandpa shark, doo doo doo doo doo doo\n",
    "Grandpa shark, doo doo doo doo doo doo\n",
    "Grandpa shark!\n",
    "Let's go hunt, doo doo doo doo doo doo\n",
    "Let's go hunt, doo doo doo doo doo doo\n",
    "Let's go hunt, doo doo doo doo doo doo\n",
    "Let's go hunt!\n",
    "Run away,… \n",
    "```\n",
    "\n",
    "### Step 3: Check output\n",
    "Now i want you must create a string variable called **result** to store all the characters and check if it is equal to the lyrics. Remenber de hint section. "
   ]
  },
  {
   "cell_type": "code",
   "execution_count": 31,
   "metadata": {},
   "outputs": [],
   "source": [
    "# your code here\n",
    "result = '''Baby shark, doo doo doo doo doo doo\n",
    "Baby shark, doo doo doo doo doo doo\n",
    "Baby shark, doo doo doo doo doo doo\n",
    "Baby shark!\n",
    "Mommy shark, doo doo doo doo doo doo\n",
    "Mommy shark, doo doo doo doo doo doo\n",
    "Mommy shark, doo doo doo doo doo doo\n",
    "Mommy shark!\n",
    "Daddy shark, doo doo doo doo doo doo\n",
    "Daddy shark, doo doo doo doo doo doo\n",
    "Daddy shark, doo doo doo doo doo doo\n",
    "Daddy shark!\n",
    "Grandma shark, doo doo doo doo doo doo\n",
    "Grandma shark, doo doo doo doo doo doo\n",
    "Grandma shark, doo doo doo doo doo doo\n",
    "Grandma shark!\n",
    "Grandpa shark, doo doo doo doo doo doo\n",
    "Grandpa shark, doo doo doo doo doo doo\n",
    "Grandpa shark, doo doo doo doo doo doo\n",
    "Grandpa shark!\n",
    "Let's go hunt, doo doo doo doo doo doo\n",
    "Let's go hunt, doo doo doo doo doo doo\n",
    "Let's go hunt, doo doo doo doo doo doo\n",
    "Let's go hunt!\n",
    "Run away,…'''\n"
   ]
  },
  {
   "cell_type": "code",
   "execution_count": 32,
   "metadata": {},
   "outputs": [
    {
     "name": "stdout",
     "output_type": "stream",
     "text": [
      "True\n"
     ]
    }
   ],
   "source": [
    "# Check\n",
    "\n",
    "print(result == babyshark)"
   ]
  },
  {
   "cell_type": "markdown",
   "metadata": {},
   "source": [
    "**Expected output**:\n",
    "\n",
    "```\n",
    "True\n",
    "```\n",
    "\n",
    "### Step 4: Function\n",
    " Create a functions called babyshark() that generates the wanted output. "
   ]
  },
  {
   "cell_type": "code",
   "execution_count": 47,
   "metadata": {},
   "outputs": [],
   "source": [
    "def baby_shark_lyrics(arg1,arg2,arg3,arg4,arg5,arg6):     \n",
    "    # your code here\n",
    "    return arg1 + \"\\n\" + arg2 + \"\\n\" + arg3 + \"\\n\" + arg4 + \"\\n\"+ arg5 + \"\\n\" + arg6 + \"\\n\" + \"Run away,…\"\n",
    "    "
   ]
  },
  {
   "cell_type": "code",
   "execution_count": 48,
   "metadata": {},
   "outputs": [
    {
     "name": "stdout",
     "output_type": "stream",
     "text": [
      "True\n"
     ]
    }
   ],
   "source": [
    "# Check\n",
    "\n",
    "print(baby_shark_lyrics(baby_shark,mommy_shark,daddy_shark,grandma_shark,grandpa_shark,hunting) == babyshark)"
   ]
  },
  {
   "cell_type": "markdown",
   "metadata": {},
   "source": [
    "**Expected output**:\n",
    "\n",
    "```\n",
    "True\n",
    "```"
   ]
  },
  {
   "cell_type": "markdown",
   "metadata": {},
   "source": [
    "### Step 5: Files\n",
    "Baby shark lyrics can be read in the songs folder. Try to store the content of that file in a variable called **text** and check if it is equal to the babyshark variable and the output of your baby_shark_lyrics function. \n",
    "\n",
    "https://www.pythonforbeginners.com/files/reading-and-writing-files-in-python"
   ]
  },
  {
   "cell_type": "code",
   "execution_count": 49,
   "metadata": {},
   "outputs": [
    {
     "name": "stdout",
     "output_type": "stream",
     "text": [
      "Baby shark, doo doo doo doo doo doo\n",
      "Baby shark, doo doo doo doo doo doo\n",
      "Baby shark, doo doo doo doo doo doo\n",
      "Baby shark!\n",
      "Mommy shark, doo doo doo doo doo doo\n",
      "Mommy shark, doo doo doo doo doo doo\n",
      "Mommy shark, doo doo doo doo doo doo\n",
      "Mommy shark!\n",
      "Daddy shark, doo doo doo doo doo doo\n",
      "Daddy shark, doo doo doo doo doo doo\n",
      "Daddy shark, doo doo doo doo doo doo\n",
      "Daddy shark!\n",
      "Grandma shark, doo doo doo doo doo doo\n",
      "Grandma shark, doo doo doo doo doo doo\n",
      "Grandma shark, doo doo doo doo doo doo\n",
      "Grandma shark!\n",
      "Grandpa shark, doo doo doo doo doo doo\n",
      "Grandpa shark, doo doo doo doo doo doo\n",
      "Grandpa shark, doo doo doo doo doo doo\n",
      "Grandpa shark!\n",
      "Let's go hunt, doo doo doo doo doo doo\n",
      "Let's go hunt, doo doo doo doo doo doo\n",
      "Let's go hunt, doo doo doo doo doo doo\n",
      "Let's go hunt!\n",
      "Run away,…\n"
     ]
    }
   ],
   "source": [
    "# your code here\n",
    "text = open('songs/baby-shark.txt', \"r\").read()\n",
    "print(text)"
   ]
  },
  {
   "cell_type": "code",
   "execution_count": 50,
   "metadata": {},
   "outputs": [
    {
     "name": "stdout",
     "output_type": "stream",
     "text": [
      "True\n"
     ]
    }
   ],
   "source": [
    "# check\n",
    "\n",
    "print(text == babyshark)"
   ]
  },
  {
   "cell_type": "markdown",
   "metadata": {},
   "source": [
    "**Expected output**:\n",
    "\n",
    "```\n",
    "True\n",
    "```"
   ]
  },
  {
   "cell_type": "code",
   "execution_count": 51,
   "metadata": {},
   "outputs": [
    {
     "data": {
      "text/plain": [
       "True"
      ]
     },
     "execution_count": 51,
     "metadata": {},
     "output_type": "execute_result"
    }
   ],
   "source": [
    "# Check\n",
    "\n",
    "(baby_shark_lyrics(baby_shark,mommy_shark,daddy_shark,grandma_shark,grandpa_shark,hunting) == text)"
   ]
  },
  {
   "cell_type": "markdown",
   "metadata": {},
   "source": [
    "**Expected output**:\n",
    "\n",
    "```\n",
    "True\n",
    "```"
   ]
  },
  {
   "cell_type": "markdown",
   "metadata": {},
   "source": [
    "### Step 6: Refactor\n",
    "Now I want you to refactor your **baby_shark_lyrics** function in order to be less than 400 characters. If your code is larger than 400 characters, you should change baby_shark_lyrics function in order to shorten it."
   ]
  },
  {
   "cell_type": "code",
   "execution_count": 52,
   "metadata": {},
   "outputs": [
    {
     "name": "stdout",
     "output_type": "stream",
     "text": [
      "Your baby_shark_lyrics functions has 187 characters\n",
      "True\n"
     ]
    }
   ],
   "source": [
    "import inspect\n",
    "\n",
    "code = inspect.getsource(baby_shark_lyrics)\n",
    "\n",
    "# check\n",
    "\n",
    "print('Your baby_shark_lyrics functions has {} characters'.format(len(code)))\n",
    "print(len(code) < 400)"
   ]
  },
  {
   "cell_type": "markdown",
   "metadata": {},
   "source": [
    "**Expected output**:\n",
    "\n",
    "```\n",
    "Your baby_shark_lyrics functions has 367 characters\n",
    "True\n",
    "```"
   ]
  },
  {
   "cell_type": "markdown",
   "metadata": {},
   "source": [
    "## Bonus\n",
    "\n",
    "http://www.99-bottles-of-beer.net/\n",
    "\n",
    "Now let`s try with another lyric, you can find it in songs folder. \n",
    "\n",
    "### Step 1. Create bottles_lyrics function"
   ]
  },
  {
   "cell_type": "code",
   "execution_count": null,
   "metadata": {},
   "outputs": [],
   "source": [
    "def bottles_lyrics():\n",
    "    # your code here. \n",
    "    \n",
    "    "
   ]
  },
  {
   "cell_type": "markdown",
   "metadata": {},
   "source": [
    "### Step 2. Open file"
   ]
  },
  {
   "cell_type": "code",
   "execution_count": null,
   "metadata": {},
   "outputs": [],
   "source": [
    "# your code here. \n",
    "\n"
   ]
  },
  {
   "cell_type": "code",
   "execution_count": null,
   "metadata": {},
   "outputs": [],
   "source": [
    "# Check\n",
    "\n",
    "print(bottles_lyrics() == text)"
   ]
  },
  {
   "cell_type": "markdown",
   "metadata": {},
   "source": [
    "**Expected output**:\n",
    "\n",
    "```\n",
    "True\n",
    "```"
   ]
  },
  {
   "cell_type": "markdown",
   "metadata": {},
   "source": [
    "### Step 3: Check code\n",
    "Now I want you to refactor your **bottles_lyrics** function in order to be less than 1000 characters. "
   ]
  },
  {
   "cell_type": "code",
   "execution_count": null,
   "metadata": {},
   "outputs": [],
   "source": [
    "import inspect\n",
    "\n",
    "code = inspect.getsource(bottles_lyrics)"
   ]
  },
  {
   "cell_type": "code",
   "execution_count": null,
   "metadata": {},
   "outputs": [],
   "source": [
    "# check\n",
    "\n",
    "print('Your bottles_lyrics functions has {} characters'.format(len(code)))\n",
    "print(len(code) < 1000)"
   ]
  },
  {
   "cell_type": "markdown",
   "metadata": {},
   "source": [
    "**Expected output**:\n",
    "\n",
    "```\n",
    "Your bottles_lyrics functions has 837 characters\n",
    "True\n",
    "```"
   ]
  },
  {
   "cell_type": "markdown",
   "metadata": {},
   "source": [
    "If you want a real challenge, follow the link below. Sign in and start coding!\n",
    "\n",
    "https://www.codewars.com/kata/baby-shark-lyrics-generator/train/python"
   ]
  }
 ],
 "metadata": {
  "kernelspec": {
   "display_name": "Python 3",
   "language": "python",
   "name": "python3"
  },
  "language_info": {
   "codemirror_mode": {
    "name": "ipython",
    "version": 3
   },
   "file_extension": ".py",
   "mimetype": "text/x-python",
   "name": "python",
   "nbconvert_exporter": "python",
   "pygments_lexer": "ipython3",
   "version": "3.7.5rc1"
  }
 },
 "nbformat": 4,
 "nbformat_minor": 2
}
